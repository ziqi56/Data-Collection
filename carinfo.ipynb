{
  "nbformat": 4,
  "nbformat_minor": 0,
  "metadata": {
    "kernelspec": {
      "name": "python3",
      "display_name": "Python 3"
    },
    "language_info": {
      "codemirror_mode": {
        "name": "ipython",
        "version": 3
      },
      "file_extension": ".py",
      "mimetype": "text/x-python",
      "name": "python",
      "nbconvert_exporter": "python",
      "pygments_lexer": "ipython3",
      "version": "3.7.2"
    },
    "colab": {
      "name": "carinfo.ipynb",
      "provenance": [],
      "collapsed_sections": [],
      "include_colab_link": true
    },
    "accelerator": "GPU"
  },
  "cells": [
    {
      "cell_type": "markdown",
      "metadata": {
        "id": "view-in-github",
        "colab_type": "text"
      },
      "source": [
        "<a href=\"https://colab.research.google.com/github/ziqi56/DataCollection/blob/master/carinfo.ipynb\" target=\"_parent\"><img src=\"https://colab.research.google.com/assets/colab-badge.svg\" alt=\"Open In Colab\"/></a>"
      ]
    },
    {
      "cell_type": "code",
      "metadata": {
        "id": "BBWadS4ACmoP",
        "colab_type": "code",
        "colab": {}
      },
      "source": [
        "import json\n",
        "import requests\n",
        "import csv\n",
        "import pandas as pd"
      ],
      "execution_count": 0,
      "outputs": []
    },
    {
      "cell_type": "markdown",
      "metadata": {
        "id": "oReSK3bBFohN",
        "colab_type": "text"
      },
      "source": [
        "## Function"
      ]
    },
    {
      "cell_type": "code",
      "metadata": {
        "id": "2b_CfZ9ECmpB",
        "colab_type": "code",
        "colab": {}
      },
      "source": [
        "# login\n",
        "s = requests.Session()\n",
        "url = \"https://api.carinfo.kiev.ua\" \n",
        "username = \"georgetownra1\"\n",
        "password = \"electriccars\"\n",
        "    \n",
        "login_data = {\"Pversion\":\"0.1\",\"user\":username,\"pass\":password,\"mode\":\"login\",\"refid\":-1}\n",
        "r = s.post(url,login_data)"
      ],
      "execution_count": 0,
      "outputs": []
    },
    {
      "cell_type": "code",
      "metadata": {
        "id": "AtYX8X9D-c_5",
        "colab_type": "code",
        "colab": {}
      },
      "source": [
        "def is_json(myjson):\n",
        "    try:\n",
        "        json_object = json.loads(myjson)\n",
        "        \n",
        "    except ValueError:\n",
        "        return False\n",
        "    \n",
        "    return json_object"
      ],
      "execution_count": 0,
      "outputs": []
    },
    {
      "cell_type": "code",
      "metadata": {
        "id": "ie6zxPT4CmpH",
        "colab_type": "code",
        "colab": {}
      },
      "source": [
        "def test_transfer(vin):\n",
        "    payload = {\"Pversion\":\"0.1\",\"user\":\"electriccarsra2\",\"mode\":\"check\",\"lang\":\"en\",\"brand\":\"renault\",\"vinnumber\":vin}\n",
        "    res = s.post(url,payload)\n",
        "    \n",
        "    res_value = is_json(res.text)\n",
        "    if res_value == False:\n",
        "        data = 0\n",
        "    else:\n",
        "        try:\n",
        "          data = res_value[\"data\"]['Main data']['Vehicle fabrication number']\n",
        "        except KeyError: # Server is broken\n",
        "          data = None\n",
        "\n",
        "    return data"
      ],
      "execution_count": 0,
      "outputs": []
    },
    {
      "cell_type": "code",
      "metadata": {
        "id": "5UGAbB3gCmpK",
        "colab_type": "code",
        "outputId": "964bdc12-ae5f-4df9-cf1f-a1b8a420d620",
        "colab": {
          "base_uri": "https://localhost:8080/",
          "height": 35
        }
      },
      "source": [
        "print(test_transfer(\"VF1KZ1A0544492536\")) #input VIN here to test one single item"
      ],
      "execution_count": 0,
      "outputs": [
        {
          "output_type": "stream",
          "text": [
            "E129717\n"
          ],
          "name": "stdout"
        }
      ]
    },
    {
      "cell_type": "markdown",
      "metadata": {
        "id": "UxDMNgof4K4H",
        "colab_type": "text"
      },
      "source": [
        "### Reload the dataset every time we change the subset"
      ]
    },
    {
      "cell_type": "code",
      "metadata": {
        "id": "n1XDvaOgCmpO",
        "colab_type": "code",
        "colab": {}
      },
      "source": [
        "# Convert .xls into .csv and Load vins\n",
        "vins = pd.read_csv(\"electriccars.csv\")"
      ],
      "execution_count": 0,
      "outputs": []
    },
    {
      "cell_type": "code",
      "metadata": {
        "id": "bZns58-zH5qG",
        "colab_type": "code",
        "colab": {}
      },
      "source": [
        "# Enter Row Number here:(820 corresponds with Row no.822 in the original file, 821 corresponds with Row no.823, and so on. )\n",
        "vins = vins[3100:3200]"
      ],
      "execution_count": 0,
      "outputs": []
    },
    {
      "cell_type": "code",
      "metadata": {
        "id": "LSA8z6mGH-kh",
        "colab_type": "code",
        "colab": {}
      },
      "source": [
        "# display the first 5 rows\n",
        "vins.head()"
      ],
      "execution_count": 0,
      "outputs": []
    },
    {
      "cell_type": "code",
      "metadata": {
        "id": "fK8Ksd6oCmpT",
        "colab_type": "code",
        "colab": {}
      },
      "source": [
        "# apply the function on the whole column\n",
        "vfn = vins['vin'].apply(test_transfer)"
      ],
      "execution_count": 0,
      "outputs": []
    },
    {
      "cell_type": "code",
      "metadata": {
        "id": "uXqLEkCDIEv3",
        "colab_type": "code",
        "colab": {}
      },
      "source": [
        "vfn"
      ],
      "execution_count": 0,
      "outputs": []
    },
    {
      "cell_type": "code",
      "metadata": {
        "id": "ZoTpWR69CmpQ",
        "colab_type": "code",
        "colab": {}
      },
      "source": [
        "vin = vins['vin']"
      ],
      "execution_count": 0,
      "outputs": []
    },
    {
      "cell_type": "code",
      "metadata": {
        "id": "Rnjr_DgSCmpa",
        "colab_type": "code",
        "colab": {}
      },
      "source": [
        "d = []\n",
        "for i, f in zip(vin, vfn):\n",
        "    row = {\n",
        "        'vin': i,\n",
        "        'vfn': f\n",
        "\n",
        "    }\n",
        "    d.append(row)"
      ],
      "execution_count": 0,
      "outputs": []
    },
    {
      "cell_type": "code",
      "metadata": {
        "id": "dkuTV2q5Cmpg",
        "colab_type": "code",
        "colab": {}
      },
      "source": [
        "with open('vinvfn.csv', 'w', newline=\"\") as file:\n",
        "    fieldnames = ['vin', 'vfn']\n",
        "    writer = csv.DictWriter(file, fieldnames)\n",
        "    writer.writeheader()\n",
        "    writer.writerows(d)"
      ],
      "execution_count": 0,
      "outputs": []
    },
    {
      "cell_type": "code",
      "metadata": {
        "id": "vFszdnVxCmpi",
        "colab_type": "code",
        "colab": {}
      },
      "source": [
        "# Refresh this page or reload the dataset\n",
        "\n",
        "# Colab autoconnection (Run the code below in the Console (F12)):\n",
        "\"\"\"\n",
        "function ClickConnect(){\n",
        "console.log(\"Working\"); \n",
        "document.querySelector(\"colab-toolbar-button#connect\").click() \n",
        "}\n",
        "setInterval(ClickConnect,60000)\n",
        "\n",
        "\"\"\""
      ],
      "execution_count": 0,
      "outputs": []
    }
  ]
}